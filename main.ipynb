{
 "cells": [
  {
   "cell_type": "markdown",
   "metadata": {},
   "source": [
    "# Imports"
   ]
  },
  {
   "cell_type": "code",
   "execution_count": null,
   "metadata": {
    "_cell_guid": "b1076dfc-b9ad-4769-8c92-a6c4dae69d19",
    "_uuid": "8f2839f25d086af736a60e9eeb907d3b93b6e0e5",
    "trusted": true
   },
   "outputs": [],
   "source": [
    "from source.dataLoader import load_dataset\n",
    "from source.utils import save_visualizations, save_results_to_csv, plot_all_categories_with_images\n",
    "from source.train import train_model\n",
    "from source.evaluate import evaluate_model \n",
    "from source.losses import mse_loss\n",
    "from source.models import ADTR, ADTR_FPN\n",
    "import config\n",
    "import torch\n",
    "from torchvision import transforms\n",
    "from torch.optim.lr_scheduler import CosineAnnealingWarmRestarts\n",
    "from torch.optim import AdamW\n",
    "import gc\n",
    "import os\n",
    "import kagglehub"
   ]
  },
  {
   "cell_type": "markdown",
   "metadata": {},
   "source": [
    "# Download Datasets (if needed)"
   ]
  },
  {
   "cell_type": "code",
   "execution_count": null,
   "metadata": {},
   "outputs": [],
   "source": [
    "if not os.path.exists(config.MVTEC_ROOT) and config.DATASET_TO_USE == 'mvtec':\n",
    "    dataset_path = kagglehub.dataset_download(config.MVTEC_KAGGLE_DOWNLOAD_URL)\n",
    "elif not os.path.exists(config.BTAD_ROOT) and config.DATASET_TO_USE == 'batd':\n",
    "    dataset_path = kagglehub.dataset_download(config.BTAD_KAGGLE_DOWNLOAD_URL)\n",
    "    dataset_path += \"/BTech_Dataset_transformed\"\n",
    "\n",
    "print(f\"Dataset loaded\")"
   ]
  },
  {
   "cell_type": "markdown",
   "metadata": {},
   "source": [
    "# Clean cache"
   ]
  },
  {
   "cell_type": "code",
   "execution_count": null,
   "metadata": {},
   "outputs": [],
   "source": [
    "def cleanup():\n",
    "    print(\"\\n--- Cleaning VRAM ---\")\n",
    "\n",
    "    try:\n",
    "        del model\n",
    "        del optimizer\n",
    "        print(\"Deleted model and optimizer objects.\")\n",
    "    except NameError:\n",
    "        print(\"Model and optimizer objects were not found for deletion (already deleted or out of scope).\")\n",
    "\n",
    "    if torch.cuda.is_available():\n",
    "        torch.cuda.empty_cache()\n",
    "        print(\"PyTorch CUDA cache cleared.\")\n",
    "\n",
    "    gc.collect()\n",
    "    print(\"Garbage collection triggered.\")\n",
    "\n",
    "    print(\"\\nVRAM cleaning process complete.\")"
   ]
  },
  {
   "cell_type": "markdown",
   "metadata": {},
   "source": [
    "# Setup/Train/Evaluate model"
   ]
  },
  {
   "cell_type": "code",
   "execution_count": null,
   "metadata": {},
   "outputs": [],
   "source": [
    "torch.manual_seed(config.RANDOM_SEED)\n",
    "\n",
    "if config.DOWNLOAD_DATASET:\n",
    "    DATASET = dataset_path\n",
    "else:\n",
    "    DATASET = config.MVTEC_ROOT if config.DATASET_TO_USE == 'mvtec' else config.BTAD_ROOT\n",
    "\n",
    "transform_train = transforms.Compose([\n",
    "    transforms.Resize(config.IMG_SIZE),\n",
    "    transforms.ToTensor(),\n",
    "])\n",
    "\n",
    "transform_test = transforms.Compose([\n",
    "    transforms.Resize(config.IMG_SIZE),\n",
    "    transforms.ToTensor(),\n",
    "])\n",
    "\n",
    "categories = config.MVTEC_CATEGORIES if config.DATASET_TO_USE == 'mvtec' else config.BTAD_CATEGORIES\n",
    "\n",
    "for category in categories:\n",
    "    print(f\"Processing category: {category}\")\n",
    "    \n",
    "    # Load the dataset\n",
    "    train_loader, test_loader = load_dataset(\n",
    "        main_path=DATASET,\n",
    "        transform_train=transform_train,\n",
    "        transform_test=transform_test,\n",
    "        class_selected=category,\n",
    "        batch_size=config.BATCH_SIZE,\n",
    "        num_workers=config.NUM_WORKERS\n",
    "    )\n",
    "\n",
    "    print(\"Instantiate model, optimizer, scheduler, and loss function\")\n",
    "    # select model based on configuration\n",
    "    if config.MODEL == 'ADTR_FPN':\n",
    "        model = ADTR_FPN.ADTR_FPN(use_dyt=config.USE_DYT).to(config.DEVICE)\n",
    "        optimizer = AdamW(model.reconstruction.parameters(), lr=config.LR, weight_decay=config.WEIGHT_DECAY)\n",
    "        scheduler = CosineAnnealingWarmRestarts(optimizer, T_0=10, T_mult=2, eta_min=1e-6)\n",
    "        criterion = mse_loss\n",
    "    elif config.MODEL == 'ADTR':\n",
    "        model = ADTR.ADTR(use_dyt=config.USE_DYT).to(config.DEVICE)\n",
    "        optimizer = AdamW(model.parameters(), lr=config.LR, weight_decay=config.WEIGHT_DECAY)\n",
    "        scheduler = None\n",
    "        criterion = mse_loss\n",
    "    else:\n",
    "        raise ValueError(f\"Model {config.MODEL} is not supported.\")\n",
    "\n",
    "    if config.LOAD_WEIGHTS:\n",
    "        print(f\"Loading weights for {config.MODEL} in category {category}\")\n",
    "        # check if the checkpoint exists\n",
    "        if not os.path.exists(f\"{config.CHECKPOINT_DIR}/{config.MODEL}_{category}.pth\"):\n",
    "            raise FileNotFoundError(f\"Checkpoint for {config.MODEL} in category {category} does not exist.\")\n",
    "        model.load_state_dict(torch.load(f\"{config.CHECKPOINT_DIR}/{config.MODEL}_{category}.pth\"))\n",
    "\n",
    "    # Train the model\n",
    "    if config.TRAIN_MODEL:\n",
    "        train_model(model, train_loader, optimizer, criterion, config.DEVICE, config.EPOCHS, scheduler=scheduler)\n",
    "        # Save the model\n",
    "        model_save_path = os.path.join(config.CHECKPOINT_DIR, f\"{config.MODEL}_{category}.pth\")\n",
    "        os.makedirs(config.CHECKPOINT_DIR, exist_ok=True)\n",
    "        torch.save(model.state_dict(), model_save_path)\n",
    "\n",
    "    # Evaluate the model\n",
    "    image_auroc, pixel_auroc, accuracy, f1 = evaluate_model(model, test_loader, config.DEVICE)\n",
    "\n",
    "    # Save visualizations\n",
    "    path_images = save_visualizations(model, test_loader, category, config)\n",
    "    \n",
    "    save_results_to_csv(\n",
    "        model_name=config.MODEL,\n",
    "        category_name=category,\n",
    "        image_auroc=image_auroc,\n",
    "        pixel_auroc=pixel_auroc,\n",
    "        accuracy=accuracy,\n",
    "        f1=f1,\n",
    "        path_images=path_images,\n",
    "        save_dir=config.RESULT_FOLDER\n",
    "    )\n",
    "    \n",
    "    cleanup()"
   ]
  },
  {
   "cell_type": "markdown",
   "metadata": {},
   "source": [
    "# Plot Results"
   ]
  },
  {
   "cell_type": "code",
   "execution_count": null,
   "metadata": {},
   "outputs": [],
   "source": [
    "plot_all_categories_with_images(f\"{config.RESULT_FOLDER}/{config.MODEL}_results.csv\", img_to_plot=[], save_path=None)"
   ]
  },
  {
   "cell_type": "markdown",
   "metadata": {},
   "source": [
    "# Delete Dataset"
   ]
  },
  {
   "cell_type": "code",
   "execution_count": null,
   "metadata": {},
   "outputs": [],
   "source": [
    "if config.DOWNLOAD_DATASET and config.DELETE_CACHE_DATASET:\n",
    "    # Delete KaggleHub cache to free up space\n",
    "    print(\"\\n--- Deleting KaggleHub cache ---\")\n",
    "    %rm -rf ~/.cache/kagglehub"
   ]
  }
 ],
 "metadata": {
  "kaggle": {
   "accelerator": "gpu",
   "dataSources": [],
   "dockerImageVersionId": 31041,
   "isGpuEnabled": true,
   "isInternetEnabled": true,
   "language": "python",
   "sourceType": "notebook"
  },
  "kernelspec": {
   "display_name": ".venv",
   "language": "python",
   "name": "python3"
  },
  "language_info": {
   "codemirror_mode": {
    "name": "ipython",
    "version": 3
   },
   "file_extension": ".py",
   "mimetype": "text/x-python",
   "name": "python",
   "nbconvert_exporter": "python",
   "pygments_lexer": "ipython3",
   "version": "3.12.3"
  }
 },
 "nbformat": 4,
 "nbformat_minor": 4
}
